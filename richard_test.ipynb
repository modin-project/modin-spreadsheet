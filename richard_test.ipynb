{
 "cells": [
  {
   "cell_type": "code",
   "execution_count": null,
   "metadata": {},
   "outputs": [],
   "source": [
    "# This notebook expects that Modin and Ray are installed, e.g. by `pip install modin[ray]`.\n",
    "# For all ways to install Modin see official documentation at:\n",
    "# https://modin.readthedocs.io/en/latest/installation.html\n",
    "%load_ext autoreload\n",
    "%autoreload 2\n",
    "\n",
    "import modin.pandas as pd\n",
    "# import pandas as pd\n",
    "import qgrid\n",
    "from qgrid import QgridWidget\n",
    "import numpy as np"
   ]
  },
  {
   "cell_type": "code",
   "execution_count": null,
   "metadata": {},
   "outputs": [],
   "source": [
    "columns_names = [\n",
    "        \"trip_id\", \"vendor_id\", \"pickup_datetime\", \"dropoff_datetime\", \"store_and_fwd_flag\",\n",
    "        \"rate_code_id\", \"pickup_longitude\", \"pickup_latitude\", \"dropoff_longitude\", \"dropoff_latitude\",\n",
    "        \"passenger_count\", \"trip_distance\", \"fare_amount\", \"extra\", \"mta_tax\", \"tip_amount\",\n",
    "        \"tolls_amount\", \"ehail_fee\", \"improvement_surcharge\", \"total_amount\", \"payment_type\",\n",
    "        \"trip_type\", \"pickup\", \"dropoff\", \"cab_type\", \"precipitation\", \"snow_depth\", \"snowfall\",\n",
    "        \"max_temperature\", \"min_temperature\", \"average_wind_speed\", \"pickup_nyct2010_gid\",\n",
    "        \"pickup_ctlabel\", \"pickup_borocode\", \"pickup_boroname\", \"pickup_ct2010\",\n",
    "        \"pickup_boroct2010\", \"pickup_cdeligibil\", \"pickup_ntacode\", \"pickup_ntaname\", \"pickup_puma\",\n",
    "        \"dropoff_nyct2010_gid\", \"dropoff_ctlabel\", \"dropoff_borocode\", \"dropoff_boroname\",\n",
    "        \"dropoff_ct2010\", \"dropoff_boroct2010\", \"dropoff_cdeligibil\", \"dropoff_ntacode\",\n",
    "        \"dropoff_ntaname\", \"dropoff_puma\",\n",
    "    ]\n",
    "parse_dates=[\"pickup_datetime\", \"dropoff_datetime\"]"
   ]
  },
  {
   "cell_type": "code",
   "execution_count": null,
   "metadata": {},
   "outputs": [],
   "source": [
    "df = pd.read_csv('https://modin-datasets.s3.amazonaws.com/trips_data.csv', names=columns_names,\n",
    "                header=None, parse_dates=parse_dates)\n",
    "# df = pd.DataFrame(\n",
    "#         {\n",
    "#             \"A\": 1.0,\n",
    "#             \"Date\": pd.Timestamp(\"20130102\"),\n",
    "#             \"C\": pd.Series([1,2,3,4], index=list(range(4)), dtype=\"float32\"),\n",
    "#             \"D\": np.array([3] * 4, dtype=\"int32\"),\n",
    "#             \"E\": pd.Categorical([\"test\", \"train\", \"foo\", \"bar\"]),\n",
    "# #             \"F\": [\"foo\", \"bar\", \"buzz\", \"fox\"],\n",
    "#             \"F\": [\"foo\", \"bar\", 1, 2],\n",
    "#         }\n",
    "#     )\n",
    "# df"
   ]
  },
  {
   "cell_type": "code",
   "execution_count": null,
   "metadata": {},
   "outputs": [],
   "source": [
    "# small_df = df.iloc[:10, :10]\n",
    "# display(small_df)"
   ]
  },
  {
   "cell_type": "code",
   "execution_count": null,
   "metadata": {},
   "outputs": [],
   "source": [
    "# Create spreadsheet widget from dataframe\n",
    "# qgrid_widget = qgrid.show_grid(small_df, show_toolbar=True, grid_options={'forceFitColumns': False, 'enableColumnReorder': True})\n",
    "qgrid_widget = qgrid.show_grid(df, show_toolbar=True, grid_options={'forceFitColumns': False, 'enableColumnReorder': True})\n",
    "qgrid_widget"
   ]
  },
  {
   "cell_type": "code",
   "execution_count": null,
   "metadata": {
    "scrolled": false
   },
   "outputs": [],
   "source": [
    "# Shows history of dataframe transformations as list of python code strings\n",
    "print(qgrid_widget.get_history())\n",
    "# Shows messages sent from client to widget\n",
    "print(qgrid_widget._qgrid_msgs)\n",
    "# Shows all events on the widget\n",
    "print(qgrid_widget.get_events())"
   ]
  },
  {
   "cell_type": "code",
   "execution_count": null,
   "metadata": {},
   "outputs": [],
   "source": [
    "print(qgrid_widget.apply_history(df))"
   ]
  },
  {
   "cell_type": "code",
   "execution_count": null,
   "metadata": {
    "scrolled": true
   },
   "outputs": [],
   "source": [
    "# Check that the transformed df is the same\n",
    "df1=qgrid_widget.apply_history(df)._to_pandas()\n",
    "df2=qgrid_widget.get_changed_df()._to_pandas()\n",
    "print(df1.equals(df2))"
   ]
  },
  {
   "cell_type": "code",
   "execution_count": null,
   "metadata": {},
   "outputs": [],
   "source": [
    "qgrid_widget.get_changed_df()"
   ]
  },
  {
   "cell_type": "code",
   "execution_count": null,
   "metadata": {},
   "outputs": [],
   "source": []
  }
 ],
 "metadata": {
  "kernelspec": {
   "display_name": "Python 3",
   "language": "python",
   "name": "python3"
  },
  "language_info": {
   "codemirror_mode": {
    "name": "ipython",
    "version": 3
   },
   "file_extension": ".py",
   "mimetype": "text/x-python",
   "name": "python",
   "nbconvert_exporter": "python",
   "pygments_lexer": "ipython3",
   "version": "3.8.5"
  }
 },
 "nbformat": 4,
 "nbformat_minor": 4
}
